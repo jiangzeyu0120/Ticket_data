{
  "cells": [
    {
      "cell_type": "code",
      "execution_count": 55,
      "metadata": {
        "colab": {
          "base_uri": "https://localhost:8080/"
        },
        "id": "3HQUj_KRwOQC",
        "outputId": "a4333cfb-60fe-41fd-9769-e9183ec8fc24"
      },
      "outputs": [
        {
          "name": "stdout",
          "output_type": "stream",
          "text": [
            "Drive already mounted at /content/drive; to attempt to forcibly remount, call drive.mount(\"/content/drive\", force_remount=True).\n"
          ]
        }
      ],
      "source": [
        "from google.colab import drive\n",
        "drive.mount('/content/drive')"
      ]
    },
    {
      "cell_type": "code",
      "execution_count": null,
      "metadata": {},
      "outputs": [],
      "source": [
        "heiheihei"
      ]
    },
    {
      "cell_type": "markdown",
      "metadata": {
        "id": "bGCZqIVkwmFz"
      },
      "source": [
        "# 0.Préparation \n"
      ]
    },
    {
      "cell_type": "code",
      "execution_count": 56,
      "metadata": {
        "id": "ErsO1tYTwT2K"
      },
      "outputs": [],
      "source": [
        "import numpy as np\n",
        "import pandas as pd"
      ]
    },
    {
      "cell_type": "code",
      "execution_count": 57,
      "metadata": {
        "id": "q0UPNxG2c_69"
      },
      "outputs": [],
      "source": [
        "# Il faut changer import path quand vous voulez exécuter ce script\n",
        "ticket = pd.read_csv('/content/drive/MyDrive/data/exercise_stage/ticket_data.csv')\n",
        "cities = pd.read_csv('/content/drive/MyDrive/data/exercise_stage/cities.csv')\n",
        "providers = pd.read_csv('/content/drive/MyDrive/data/exercise_stage/providers.csv')"
      ]
    },
    {
      "cell_type": "markdown",
      "metadata": {
        "id": "Z9-VjteDwxd6"
      },
      "source": [
        "# 1.Extraire des infos intéressantes"
      ]
    },
    {
      "cell_type": "markdown",
      "metadata": {
        "id": "qXtRB_7ybqg1"
      },
      "source": [
        "Dans la première partie, pour obtenir le prix et la durée par trajet,\n",
        "j'ai tout d'abord classifié des infos sur ticket par o_city et d_city, et puis calculer leur value minimum, maximum et moyen."
      ]
    },
    {
      "cell_type": "code",
      "execution_count": 58,
      "metadata": {
        "colab": {
          "base_uri": "https://localhost:8080/",
          "height": 455
        },
        "id": "7PDUomIrxMOC",
        "outputId": "45d2bd6d-cd5f-41ef-aa49-6d9a325fd533"
      },
      "outputs": [
        {
          "data": {
            "text/html": [
              "\n",
              "  <div id=\"df-60bc5dbd-6bb4-4d81-babd-520128446331\">\n",
              "    <div class=\"colab-df-container\">\n",
              "      <div>\n",
              "<style scoped>\n",
              "    .dataframe tbody tr th:only-of-type {\n",
              "        vertical-align: middle;\n",
              "    }\n",
              "\n",
              "    .dataframe tbody tr th {\n",
              "        vertical-align: top;\n",
              "    }\n",
              "\n",
              "    .dataframe thead th {\n",
              "        text-align: right;\n",
              "    }\n",
              "</style>\n",
              "<table border=\"1\" class=\"dataframe\">\n",
              "  <thead>\n",
              "    <tr style=\"text-align: right;\">\n",
              "      <th></th>\n",
              "      <th></th>\n",
              "      <th>amin</th>\n",
              "      <th>amax</th>\n",
              "      <th>mean</th>\n",
              "    </tr>\n",
              "    <tr>\n",
              "      <th>o_city</th>\n",
              "      <th>d_city</th>\n",
              "      <th></th>\n",
              "      <th></th>\n",
              "      <th></th>\n",
              "    </tr>\n",
              "  </thead>\n",
              "  <tbody>\n",
              "    <tr>\n",
              "      <th>5</th>\n",
              "      <th>23</th>\n",
              "      <td>18600</td>\n",
              "      <td>22000</td>\n",
              "      <td>20320.000000</td>\n",
              "    </tr>\n",
              "    <tr>\n",
              "      <th rowspan=\"4\" valign=\"top\">6</th>\n",
              "      <th>227</th>\n",
              "      <td>9860</td>\n",
              "      <td>13650</td>\n",
              "      <td>11755.000000</td>\n",
              "    </tr>\n",
              "    <tr>\n",
              "      <th>504</th>\n",
              "      <td>2000</td>\n",
              "      <td>8920</td>\n",
              "      <td>4042.666667</td>\n",
              "    </tr>\n",
              "    <tr>\n",
              "      <th>628</th>\n",
              "      <td>2600</td>\n",
              "      <td>3190</td>\n",
              "      <td>2797.500000</td>\n",
              "    </tr>\n",
              "    <tr>\n",
              "      <th>845</th>\n",
              "      <td>700</td>\n",
              "      <td>2420</td>\n",
              "      <td>864.626866</td>\n",
              "    </tr>\n",
              "    <tr>\n",
              "      <th>...</th>\n",
              "      <th>...</th>\n",
              "      <td>...</td>\n",
              "      <td>...</td>\n",
              "      <td>...</td>\n",
              "    </tr>\n",
              "    <tr>\n",
              "      <th>11938</th>\n",
              "      <th>126</th>\n",
              "      <td>3000</td>\n",
              "      <td>5350</td>\n",
              "      <td>4204.861111</td>\n",
              "    </tr>\n",
              "    <tr>\n",
              "      <th>12124</th>\n",
              "      <th>1064</th>\n",
              "      <td>6000</td>\n",
              "      <td>7900</td>\n",
              "      <td>6950.000000</td>\n",
              "    </tr>\n",
              "    <tr>\n",
              "      <th>12166</th>\n",
              "      <th>857</th>\n",
              "      <td>5300</td>\n",
              "      <td>5300</td>\n",
              "      <td>5300.000000</td>\n",
              "    </tr>\n",
              "    <tr>\n",
              "      <th rowspan=\"2\" valign=\"top\">12190</th>\n",
              "      <th>639</th>\n",
              "      <td>600</td>\n",
              "      <td>850</td>\n",
              "      <td>688.888889</td>\n",
              "    </tr>\n",
              "    <tr>\n",
              "      <th>8937</th>\n",
              "      <td>9800</td>\n",
              "      <td>9800</td>\n",
              "      <td>9800.000000</td>\n",
              "    </tr>\n",
              "  </tbody>\n",
              "</table>\n",
              "<p>1437 rows × 3 columns</p>\n",
              "</div>\n",
              "      <button class=\"colab-df-convert\" onclick=\"convertToInteractive('df-60bc5dbd-6bb4-4d81-babd-520128446331')\"\n",
              "              title=\"Convert this dataframe to an interactive table.\"\n",
              "              style=\"display:none;\">\n",
              "        \n",
              "  <svg xmlns=\"http://www.w3.org/2000/svg\" height=\"24px\"viewBox=\"0 0 24 24\"\n",
              "       width=\"24px\">\n",
              "    <path d=\"M0 0h24v24H0V0z\" fill=\"none\"/>\n",
              "    <path d=\"M18.56 5.44l.94 2.06.94-2.06 2.06-.94-2.06-.94-.94-2.06-.94 2.06-2.06.94zm-11 1L8.5 8.5l.94-2.06 2.06-.94-2.06-.94L8.5 2.5l-.94 2.06-2.06.94zm10 10l.94 2.06.94-2.06 2.06-.94-2.06-.94-.94-2.06-.94 2.06-2.06.94z\"/><path d=\"M17.41 7.96l-1.37-1.37c-.4-.4-.92-.59-1.43-.59-.52 0-1.04.2-1.43.59L10.3 9.45l-7.72 7.72c-.78.78-.78 2.05 0 2.83L4 21.41c.39.39.9.59 1.41.59.51 0 1.02-.2 1.41-.59l7.78-7.78 2.81-2.81c.8-.78.8-2.07 0-2.86zM5.41 20L4 18.59l7.72-7.72 1.47 1.35L5.41 20z\"/>\n",
              "  </svg>\n",
              "      </button>\n",
              "      \n",
              "  <style>\n",
              "    .colab-df-container {\n",
              "      display:flex;\n",
              "      flex-wrap:wrap;\n",
              "      gap: 12px;\n",
              "    }\n",
              "\n",
              "    .colab-df-convert {\n",
              "      background-color: #E8F0FE;\n",
              "      border: none;\n",
              "      border-radius: 50%;\n",
              "      cursor: pointer;\n",
              "      display: none;\n",
              "      fill: #1967D2;\n",
              "      height: 32px;\n",
              "      padding: 0 0 0 0;\n",
              "      width: 32px;\n",
              "    }\n",
              "\n",
              "    .colab-df-convert:hover {\n",
              "      background-color: #E2EBFA;\n",
              "      box-shadow: 0px 1px 2px rgba(60, 64, 67, 0.3), 0px 1px 3px 1px rgba(60, 64, 67, 0.15);\n",
              "      fill: #174EA6;\n",
              "    }\n",
              "\n",
              "    [theme=dark] .colab-df-convert {\n",
              "      background-color: #3B4455;\n",
              "      fill: #D2E3FC;\n",
              "    }\n",
              "\n",
              "    [theme=dark] .colab-df-convert:hover {\n",
              "      background-color: #434B5C;\n",
              "      box-shadow: 0px 1px 3px 1px rgba(0, 0, 0, 0.15);\n",
              "      filter: drop-shadow(0px 1px 2px rgba(0, 0, 0, 0.3));\n",
              "      fill: #FFFFFF;\n",
              "    }\n",
              "  </style>\n",
              "\n",
              "      <script>\n",
              "        const buttonEl =\n",
              "          document.querySelector('#df-60bc5dbd-6bb4-4d81-babd-520128446331 button.colab-df-convert');\n",
              "        buttonEl.style.display =\n",
              "          google.colab.kernel.accessAllowed ? 'block' : 'none';\n",
              "\n",
              "        async function convertToInteractive(key) {\n",
              "          const element = document.querySelector('#df-60bc5dbd-6bb4-4d81-babd-520128446331');\n",
              "          const dataTable =\n",
              "            await google.colab.kernel.invokeFunction('convertToInteractive',\n",
              "                                                     [key], {});\n",
              "          if (!dataTable) return;\n",
              "\n",
              "          const docLinkHtml = 'Like what you see? Visit the ' +\n",
              "            '<a target=\"_blank\" href=https://colab.research.google.com/notebooks/data_table.ipynb>data table notebook</a>'\n",
              "            + ' to learn more about interactive tables.';\n",
              "          element.innerHTML = '';\n",
              "          dataTable['output_type'] = 'display_data';\n",
              "          await google.colab.output.renderOutput(dataTable, element);\n",
              "          const docLink = document.createElement('div');\n",
              "          docLink.innerHTML = docLinkHtml;\n",
              "          element.appendChild(docLink);\n",
              "        }\n",
              "      </script>\n",
              "    </div>\n",
              "  </div>\n",
              "  "
            ],
            "text/plain": [
              "                amin   amax          mean\n",
              "o_city d_city                            \n",
              "5      23      18600  22000  20320.000000\n",
              "6      227      9860  13650  11755.000000\n",
              "       504      2000   8920   4042.666667\n",
              "       628      2600   3190   2797.500000\n",
              "       845       700   2420    864.626866\n",
              "...              ...    ...           ...\n",
              "11938  126      3000   5350   4204.861111\n",
              "12124  1064     6000   7900   6950.000000\n",
              "12166  857      5300   5300   5300.000000\n",
              "12190  639       600    850    688.888889\n",
              "       8937     9800   9800   9800.000000\n",
              "\n",
              "[1437 rows x 3 columns]"
            ]
          },
          "execution_count": 58,
          "metadata": {},
          "output_type": "execute_result"
        }
      ],
      "source": [
        "Prix = ticket.groupby(['o_city', 'd_city'])['price_in_cents'].agg([np.min, np.max, np.mean])\n",
        "Prix"
      ]
    },
    {
      "cell_type": "code",
      "execution_count": 59,
      "metadata": {
        "colab": {
          "base_uri": "https://localhost:8080/"
        },
        "id": "jlqodFm6x8O-",
        "outputId": "2ab56bf0-4818-47ef-e6bc-19b8fc77fe16"
      },
      "outputs": [
        {
          "data": {
            "text/plain": [
              "amin     9860.0\n",
              "amax    13650.0\n",
              "mean    11755.0\n",
              "Name: (6, 227), dtype: float64"
            ]
          },
          "execution_count": 59,
          "metadata": {},
          "output_type": "execute_result"
        }
      ],
      "source": [
        "Prix.loc[(6,227)] # Recherche des données sur prix par o_city et d_city"
      ]
    },
    {
      "cell_type": "code",
      "execution_count": 60,
      "metadata": {
        "colab": {
          "base_uri": "https://localhost:8080/",
          "height": 455
        },
        "id": "n_GPcbYs2Veq",
        "outputId": "19968660-e61c-424b-c2b6-72fe3ac16265"
      },
      "outputs": [
        {
          "data": {
            "text/html": [
              "\n",
              "  <div id=\"df-4200506d-c0b6-4304-a575-e8d53d054208\">\n",
              "    <div class=\"colab-df-container\">\n",
              "      <div>\n",
              "<style scoped>\n",
              "    .dataframe tbody tr th:only-of-type {\n",
              "        vertical-align: middle;\n",
              "    }\n",
              "\n",
              "    .dataframe tbody tr th {\n",
              "        vertical-align: top;\n",
              "    }\n",
              "\n",
              "    .dataframe thead th {\n",
              "        text-align: right;\n",
              "    }\n",
              "</style>\n",
              "<table border=\"1\" class=\"dataframe\">\n",
              "  <thead>\n",
              "    <tr style=\"text-align: right;\">\n",
              "      <th></th>\n",
              "      <th></th>\n",
              "      <th>amin</th>\n",
              "      <th>amax</th>\n",
              "      <th>mean</th>\n",
              "    </tr>\n",
              "    <tr>\n",
              "      <th>o_city</th>\n",
              "      <th>d_city</th>\n",
              "      <th></th>\n",
              "      <th></th>\n",
              "      <th></th>\n",
              "    </tr>\n",
              "  </thead>\n",
              "  <tbody>\n",
              "    <tr>\n",
              "      <th>5</th>\n",
              "      <th>23</th>\n",
              "      <td>0 days 08:53:00</td>\n",
              "      <td>0 days 15:54:00</td>\n",
              "      <td>0 days 10:18:48</td>\n",
              "    </tr>\n",
              "    <tr>\n",
              "      <th rowspan=\"4\" valign=\"top\">6</th>\n",
              "      <th>227</th>\n",
              "      <td>0 days 12:24:00</td>\n",
              "      <td>0 days 15:01:00</td>\n",
              "      <td>0 days 13:42:30</td>\n",
              "    </tr>\n",
              "    <tr>\n",
              "      <th>504</th>\n",
              "      <td>0 days 05:36:00</td>\n",
              "      <td>0 days 12:20:00</td>\n",
              "      <td>0 days 08:17:24</td>\n",
              "    </tr>\n",
              "    <tr>\n",
              "      <th>628</th>\n",
              "      <td>0 days 09:40:00</td>\n",
              "      <td>0 days 14:30:00</td>\n",
              "      <td>0 days 12:10:00</td>\n",
              "    </tr>\n",
              "    <tr>\n",
              "      <th>845</th>\n",
              "      <td>0 days 01:00:00</td>\n",
              "      <td>0 days 04:11:00</td>\n",
              "      <td>0 days 01:19:54.626865671</td>\n",
              "    </tr>\n",
              "    <tr>\n",
              "      <th>...</th>\n",
              "      <th>...</th>\n",
              "      <td>...</td>\n",
              "      <td>...</td>\n",
              "      <td>...</td>\n",
              "    </tr>\n",
              "    <tr>\n",
              "      <th>11938</th>\n",
              "      <th>126</th>\n",
              "      <td>0 days 05:30:00</td>\n",
              "      <td>1 days 11:20:00</td>\n",
              "      <td>0 days 07:25:16.666666666</td>\n",
              "    </tr>\n",
              "    <tr>\n",
              "      <th>12124</th>\n",
              "      <th>1064</th>\n",
              "      <td>0 days 11:10:00</td>\n",
              "      <td>0 days 23:10:00</td>\n",
              "      <td>0 days 17:10:00</td>\n",
              "    </tr>\n",
              "    <tr>\n",
              "      <th>12166</th>\n",
              "      <th>857</th>\n",
              "      <td>0 days 21:55:00</td>\n",
              "      <td>0 days 21:55:00</td>\n",
              "      <td>0 days 21:55:00</td>\n",
              "    </tr>\n",
              "    <tr>\n",
              "      <th rowspan=\"2\" valign=\"top\">12190</th>\n",
              "      <th>639</th>\n",
              "      <td>0 days 01:10:00</td>\n",
              "      <td>0 days 02:40:00</td>\n",
              "      <td>0 days 01:28:53.333333333</td>\n",
              "    </tr>\n",
              "    <tr>\n",
              "      <th>8937</th>\n",
              "      <td>0 days 09:10:00</td>\n",
              "      <td>0 days 09:10:00</td>\n",
              "      <td>0 days 09:10:00</td>\n",
              "    </tr>\n",
              "  </tbody>\n",
              "</table>\n",
              "<p>1437 rows × 3 columns</p>\n",
              "</div>\n",
              "      <button class=\"colab-df-convert\" onclick=\"convertToInteractive('df-4200506d-c0b6-4304-a575-e8d53d054208')\"\n",
              "              title=\"Convert this dataframe to an interactive table.\"\n",
              "              style=\"display:none;\">\n",
              "        \n",
              "  <svg xmlns=\"http://www.w3.org/2000/svg\" height=\"24px\"viewBox=\"0 0 24 24\"\n",
              "       width=\"24px\">\n",
              "    <path d=\"M0 0h24v24H0V0z\" fill=\"none\"/>\n",
              "    <path d=\"M18.56 5.44l.94 2.06.94-2.06 2.06-.94-2.06-.94-.94-2.06-.94 2.06-2.06.94zm-11 1L8.5 8.5l.94-2.06 2.06-.94-2.06-.94L8.5 2.5l-.94 2.06-2.06.94zm10 10l.94 2.06.94-2.06 2.06-.94-2.06-.94-.94-2.06-.94 2.06-2.06.94z\"/><path d=\"M17.41 7.96l-1.37-1.37c-.4-.4-.92-.59-1.43-.59-.52 0-1.04.2-1.43.59L10.3 9.45l-7.72 7.72c-.78.78-.78 2.05 0 2.83L4 21.41c.39.39.9.59 1.41.59.51 0 1.02-.2 1.41-.59l7.78-7.78 2.81-2.81c.8-.78.8-2.07 0-2.86zM5.41 20L4 18.59l7.72-7.72 1.47 1.35L5.41 20z\"/>\n",
              "  </svg>\n",
              "      </button>\n",
              "      \n",
              "  <style>\n",
              "    .colab-df-container {\n",
              "      display:flex;\n",
              "      flex-wrap:wrap;\n",
              "      gap: 12px;\n",
              "    }\n",
              "\n",
              "    .colab-df-convert {\n",
              "      background-color: #E8F0FE;\n",
              "      border: none;\n",
              "      border-radius: 50%;\n",
              "      cursor: pointer;\n",
              "      display: none;\n",
              "      fill: #1967D2;\n",
              "      height: 32px;\n",
              "      padding: 0 0 0 0;\n",
              "      width: 32px;\n",
              "    }\n",
              "\n",
              "    .colab-df-convert:hover {\n",
              "      background-color: #E2EBFA;\n",
              "      box-shadow: 0px 1px 2px rgba(60, 64, 67, 0.3), 0px 1px 3px 1px rgba(60, 64, 67, 0.15);\n",
              "      fill: #174EA6;\n",
              "    }\n",
              "\n",
              "    [theme=dark] .colab-df-convert {\n",
              "      background-color: #3B4455;\n",
              "      fill: #D2E3FC;\n",
              "    }\n",
              "\n",
              "    [theme=dark] .colab-df-convert:hover {\n",
              "      background-color: #434B5C;\n",
              "      box-shadow: 0px 1px 3px 1px rgba(0, 0, 0, 0.15);\n",
              "      filter: drop-shadow(0px 1px 2px rgba(0, 0, 0, 0.3));\n",
              "      fill: #FFFFFF;\n",
              "    }\n",
              "  </style>\n",
              "\n",
              "      <script>\n",
              "        const buttonEl =\n",
              "          document.querySelector('#df-4200506d-c0b6-4304-a575-e8d53d054208 button.colab-df-convert');\n",
              "        buttonEl.style.display =\n",
              "          google.colab.kernel.accessAllowed ? 'block' : 'none';\n",
              "\n",
              "        async function convertToInteractive(key) {\n",
              "          const element = document.querySelector('#df-4200506d-c0b6-4304-a575-e8d53d054208');\n",
              "          const dataTable =\n",
              "            await google.colab.kernel.invokeFunction('convertToInteractive',\n",
              "                                                     [key], {});\n",
              "          if (!dataTable) return;\n",
              "\n",
              "          const docLinkHtml = 'Like what you see? Visit the ' +\n",
              "            '<a target=\"_blank\" href=https://colab.research.google.com/notebooks/data_table.ipynb>data table notebook</a>'\n",
              "            + ' to learn more about interactive tables.';\n",
              "          element.innerHTML = '';\n",
              "          dataTable['output_type'] = 'display_data';\n",
              "          await google.colab.output.renderOutput(dataTable, element);\n",
              "          const docLink = document.createElement('div');\n",
              "          docLink.innerHTML = docLinkHtml;\n",
              "          element.appendChild(docLink);\n",
              "        }\n",
              "      </script>\n",
              "    </div>\n",
              "  </div>\n",
              "  "
            ],
            "text/plain": [
              "                         amin            amax                      mean\n",
              "o_city d_city                                                          \n",
              "5      23     0 days 08:53:00 0 days 15:54:00           0 days 10:18:48\n",
              "6      227    0 days 12:24:00 0 days 15:01:00           0 days 13:42:30\n",
              "       504    0 days 05:36:00 0 days 12:20:00           0 days 08:17:24\n",
              "       628    0 days 09:40:00 0 days 14:30:00           0 days 12:10:00\n",
              "       845    0 days 01:00:00 0 days 04:11:00 0 days 01:19:54.626865671\n",
              "...                       ...             ...                       ...\n",
              "11938  126    0 days 05:30:00 1 days 11:20:00 0 days 07:25:16.666666666\n",
              "12124  1064   0 days 11:10:00 0 days 23:10:00           0 days 17:10:00\n",
              "12166  857    0 days 21:55:00 0 days 21:55:00           0 days 21:55:00\n",
              "12190  639    0 days 01:10:00 0 days 02:40:00 0 days 01:28:53.333333333\n",
              "       8937   0 days 09:10:00 0 days 09:10:00           0 days 09:10:00\n",
              "\n",
              "[1437 rows x 3 columns]"
            ]
          },
          "execution_count": 60,
          "metadata": {},
          "output_type": "execute_result"
        }
      ],
      "source": [
        "# Calculer la durée du trajet par arrival_ts et departure_ts\n",
        "ticket['time'] = pd.to_datetime(ticket['arrival_ts']) - pd.to_datetime(ticket['departure_ts']) \n",
        "Time = ticket.groupby(['o_city', 'd_city'])['time'].agg([np.min, np.max, np.mean])\n",
        "Time"
      ]
    },
    {
      "cell_type": "code",
      "execution_count": 61,
      "metadata": {
        "colab": {
          "base_uri": "https://localhost:8080/"
        },
        "id": "l-elYC3l3adC",
        "outputId": "c39346bf-e29f-4c4e-a7e8-ab1cb1854603"
      },
      "outputs": [
        {
          "data": {
            "text/plain": [
              "amin   0 days 12:24:00\n",
              "amax   0 days 15:01:00\n",
              "mean   0 days 13:42:30\n",
              "Name: (6, 227), dtype: timedelta64[ns]"
            ]
          },
          "execution_count": 61,
          "metadata": {},
          "output_type": "execute_result"
        }
      ],
      "source": [
        "Time.loc[(6,227)] # Recherche des données sur durée par o_city et d_city"
      ]
    },
    {
      "cell_type": "markdown",
      "metadata": {
        "id": "Gvn5wwwZw4yb"
      },
      "source": [
        "# 2.différence du prix moyen et la durée "
      ]
    },
    {
      "cell_type": "markdown",
      "metadata": {
        "id": "te4X67LQecD4"
      },
      "source": [
        "Dans la deuxième partie, je voudrais obtenir prix moyen et durée selon le train, le bus et le covoit selon la distance du trajet. \n",
        "\n",
        "Tout d'abord, pour obtenir la distance entres deux villes, j'ai utilisé haversine pour les calculer par longitudes et latitudes des ces villes. Aussi, j'ai fusionné 3 dataframes pour obtenir les infos de o_city, d_city et company.\n",
        "\n"
      ]
    },
    {
      "cell_type": "code",
      "execution_count": 62,
      "metadata": {
        "colab": {
          "base_uri": "https://localhost:8080/"
        },
        "id": "pNH4W7wU47WO",
        "outputId": "e5034c2a-340a-44bd-c413-0dcde8c61513"
      },
      "outputs": [
        {
          "name": "stdout",
          "output_type": "stream",
          "text": [
            "Looking in indexes: https://pypi.org/simple, https://us-python.pkg.dev/colab-wheels/public/simple/\n",
            "Requirement already satisfied: haversine in /usr/local/lib/python3.9/dist-packages (2.8.0)\n"
          ]
        }
      ],
      "source": [
        "pip install haversine"
      ]
    },
    {
      "cell_type": "code",
      "execution_count": 63,
      "metadata": {
        "id": "v_ReBfmNEWVK"
      },
      "outputs": [],
      "source": [
        "from haversine import haversine"
      ]
    },
    {
      "cell_type": "code",
      "execution_count": 64,
      "metadata": {
        "id": "xfeykq58Eyke"
      },
      "outputs": [],
      "source": [
        "# Changer le nom des colonnes pour ne pas les mélanger\n",
        "cities = cities.rename(columns={'id':'id_city'})\n",
        "ticket = ticket.rename(columns={'id':'id_ticket'})\n",
        "# Fusionner les deux dataframes pour obtenir les infos de o_city et d_city\n",
        "ticket_cities = pd.merge(ticket, cities, left_on='o_city', right_on='id_city', how='inner')\n",
        "ticket_cities = pd.merge(ticket_cities, cities, left_on='d_city', right_on='id_city', how='inner')"
      ]
    },
    {
      "cell_type": "code",
      "execution_count": 65,
      "metadata": {
        "id": "hvxP18zLOKRC"
      },
      "outputs": [],
      "source": [
        "# Ajouter une colonne de distance entre o_city et d_city\n",
        "def get_distance(x):\n",
        "  lat1 = x['latitude_x']\n",
        "  lon1 = x['longitude_x']\n",
        "  lat2 = x['latitude_y']\n",
        "  lon2 = x['longitude_y']\n",
        "  return round(haversine((lat1, lon1),(lat2, lon2)),3)\n",
        "\n",
        "ticket_cities.loc[:,'distance'] = ticket_cities.apply(get_distance, axis=1)\n"
      ]
    },
    {
      "cell_type": "code",
      "execution_count": 66,
      "metadata": {
        "id": "wb2sDo2nSpYC"
      },
      "outputs": [],
      "source": [
        "# La même moyen pour obtenir les infos de company\n",
        "providers = providers.rename(columns={'id':'id_provider'})\n",
        "ticket_cities_providers = pd.merge(ticket_cities, providers, left_on='company', right_on='id_provider', how='inner')"
      ]
    },
    {
      "cell_type": "markdown",
      "metadata": {
        "id": "aKX8bC7rjrJm"
      },
      "source": [
        "Et puis, j'ai extrait les trajets par la distance (0-200km, 200-800km, 800-2000km). Il n'y pas trajets dont la distance est supérieure que 2000km.\n",
        "\n",
        "Et j'ai calculé le prix moyen et la durée moyenne des trajet par la distance pour chaque type de transport. "
      ]
    },
    {
      "cell_type": "code",
      "execution_count": 67,
      "metadata": {
        "colab": {
          "base_uri": "https://localhost:8080/",
          "height": 174
        },
        "id": "TYGPTue1TB5R",
        "outputId": "302a9cca-1c0c-48e2-8aee-1e7dac0903bb"
      },
      "outputs": [
        {
          "data": {
            "text/html": [
              "\n",
              "  <div id=\"df-7b270e4e-2603-4c8d-a6b6-b3a76395adad\">\n",
              "    <div class=\"colab-df-container\">\n",
              "      <div>\n",
              "<style scoped>\n",
              "    .dataframe tbody tr th:only-of-type {\n",
              "        vertical-align: middle;\n",
              "    }\n",
              "\n",
              "    .dataframe tbody tr th {\n",
              "        vertical-align: top;\n",
              "    }\n",
              "\n",
              "    .dataframe thead th {\n",
              "        text-align: right;\n",
              "    }\n",
              "</style>\n",
              "<table border=\"1\" class=\"dataframe\">\n",
              "  <thead>\n",
              "    <tr style=\"text-align: right;\">\n",
              "      <th></th>\n",
              "      <th>price_in_cents</th>\n",
              "      <th>time</th>\n",
              "    </tr>\n",
              "    <tr>\n",
              "      <th>transport_type</th>\n",
              "      <th></th>\n",
              "      <th></th>\n",
              "    </tr>\n",
              "  </thead>\n",
              "  <tbody>\n",
              "    <tr>\n",
              "      <th>bus</th>\n",
              "      <td>2182.830918</td>\n",
              "      <td>0 days 10:13:57.053140096</td>\n",
              "    </tr>\n",
              "    <tr>\n",
              "      <th>carpooling</th>\n",
              "      <td>1177.352385</td>\n",
              "      <td>0 days 01:57:07.342427561</td>\n",
              "    </tr>\n",
              "    <tr>\n",
              "      <th>train</th>\n",
              "      <td>3487.900779</td>\n",
              "      <td>0 days 04:25:09.840098400</td>\n",
              "    </tr>\n",
              "  </tbody>\n",
              "</table>\n",
              "</div>\n",
              "      <button class=\"colab-df-convert\" onclick=\"convertToInteractive('df-7b270e4e-2603-4c8d-a6b6-b3a76395adad')\"\n",
              "              title=\"Convert this dataframe to an interactive table.\"\n",
              "              style=\"display:none;\">\n",
              "        \n",
              "  <svg xmlns=\"http://www.w3.org/2000/svg\" height=\"24px\"viewBox=\"0 0 24 24\"\n",
              "       width=\"24px\">\n",
              "    <path d=\"M0 0h24v24H0V0z\" fill=\"none\"/>\n",
              "    <path d=\"M18.56 5.44l.94 2.06.94-2.06 2.06-.94-2.06-.94-.94-2.06-.94 2.06-2.06.94zm-11 1L8.5 8.5l.94-2.06 2.06-.94-2.06-.94L8.5 2.5l-.94 2.06-2.06.94zm10 10l.94 2.06.94-2.06 2.06-.94-2.06-.94-.94-2.06-.94 2.06-2.06.94z\"/><path d=\"M17.41 7.96l-1.37-1.37c-.4-.4-.92-.59-1.43-.59-.52 0-1.04.2-1.43.59L10.3 9.45l-7.72 7.72c-.78.78-.78 2.05 0 2.83L4 21.41c.39.39.9.59 1.41.59.51 0 1.02-.2 1.41-.59l7.78-7.78 2.81-2.81c.8-.78.8-2.07 0-2.86zM5.41 20L4 18.59l7.72-7.72 1.47 1.35L5.41 20z\"/>\n",
              "  </svg>\n",
              "      </button>\n",
              "      \n",
              "  <style>\n",
              "    .colab-df-container {\n",
              "      display:flex;\n",
              "      flex-wrap:wrap;\n",
              "      gap: 12px;\n",
              "    }\n",
              "\n",
              "    .colab-df-convert {\n",
              "      background-color: #E8F0FE;\n",
              "      border: none;\n",
              "      border-radius: 50%;\n",
              "      cursor: pointer;\n",
              "      display: none;\n",
              "      fill: #1967D2;\n",
              "      height: 32px;\n",
              "      padding: 0 0 0 0;\n",
              "      width: 32px;\n",
              "    }\n",
              "\n",
              "    .colab-df-convert:hover {\n",
              "      background-color: #E2EBFA;\n",
              "      box-shadow: 0px 1px 2px rgba(60, 64, 67, 0.3), 0px 1px 3px 1px rgba(60, 64, 67, 0.15);\n",
              "      fill: #174EA6;\n",
              "    }\n",
              "\n",
              "    [theme=dark] .colab-df-convert {\n",
              "      background-color: #3B4455;\n",
              "      fill: #D2E3FC;\n",
              "    }\n",
              "\n",
              "    [theme=dark] .colab-df-convert:hover {\n",
              "      background-color: #434B5C;\n",
              "      box-shadow: 0px 1px 3px 1px rgba(0, 0, 0, 0.15);\n",
              "      filter: drop-shadow(0px 1px 2px rgba(0, 0, 0, 0.3));\n",
              "      fill: #FFFFFF;\n",
              "    }\n",
              "  </style>\n",
              "\n",
              "      <script>\n",
              "        const buttonEl =\n",
              "          document.querySelector('#df-7b270e4e-2603-4c8d-a6b6-b3a76395adad button.colab-df-convert');\n",
              "        buttonEl.style.display =\n",
              "          google.colab.kernel.accessAllowed ? 'block' : 'none';\n",
              "\n",
              "        async function convertToInteractive(key) {\n",
              "          const element = document.querySelector('#df-7b270e4e-2603-4c8d-a6b6-b3a76395adad');\n",
              "          const dataTable =\n",
              "            await google.colab.kernel.invokeFunction('convertToInteractive',\n",
              "                                                     [key], {});\n",
              "          if (!dataTable) return;\n",
              "\n",
              "          const docLinkHtml = 'Like what you see? Visit the ' +\n",
              "            '<a target=\"_blank\" href=https://colab.research.google.com/notebooks/data_table.ipynb>data table notebook</a>'\n",
              "            + ' to learn more about interactive tables.';\n",
              "          element.innerHTML = '';\n",
              "          dataTable['output_type'] = 'display_data';\n",
              "          await google.colab.output.renderOutput(dataTable, element);\n",
              "          const docLink = document.createElement('div');\n",
              "          docLink.innerHTML = docLinkHtml;\n",
              "          element.appendChild(docLink);\n",
              "        }\n",
              "      </script>\n",
              "    </div>\n",
              "  </div>\n",
              "  "
            ],
            "text/plain": [
              "                price_in_cents                      time\n",
              "transport_type                                          \n",
              "bus                2182.830918 0 days 10:13:57.053140096\n",
              "carpooling         1177.352385 0 days 01:57:07.342427561\n",
              "train              3487.900779 0 days 04:25:09.840098400"
            ]
          },
          "execution_count": 67,
          "metadata": {},
          "output_type": "execute_result"
        }
      ],
      "source": [
        "# 0-200km\n",
        "D200 = ticket_cities_providers.loc[ticket_cities_providers['distance']<200, :]\n",
        "D200.groupby('transport_type').agg({'price_in_cents':np.mean, 'time':np.mean})"
      ]
    },
    {
      "cell_type": "code",
      "execution_count": 68,
      "metadata": {
        "colab": {
          "base_uri": "https://localhost:8080/",
          "height": 174
        },
        "id": "k_rI9KRwTEFt",
        "outputId": "8b1e02c5-8f33-452c-e428-3bf7d9c5132b"
      },
      "outputs": [
        {
          "data": {
            "text/html": [
              "\n",
              "  <div id=\"df-b6b0ae00-8038-4c2f-b31c-18d40e7ee7fe\">\n",
              "    <div class=\"colab-df-container\">\n",
              "      <div>\n",
              "<style scoped>\n",
              "    .dataframe tbody tr th:only-of-type {\n",
              "        vertical-align: middle;\n",
              "    }\n",
              "\n",
              "    .dataframe tbody tr th {\n",
              "        vertical-align: top;\n",
              "    }\n",
              "\n",
              "    .dataframe thead th {\n",
              "        text-align: right;\n",
              "    }\n",
              "</style>\n",
              "<table border=\"1\" class=\"dataframe\">\n",
              "  <thead>\n",
              "    <tr style=\"text-align: right;\">\n",
              "      <th></th>\n",
              "      <th>price_in_cents</th>\n",
              "      <th>time</th>\n",
              "    </tr>\n",
              "    <tr>\n",
              "      <th>transport_type</th>\n",
              "      <th></th>\n",
              "      <th></th>\n",
              "    </tr>\n",
              "  </thead>\n",
              "  <tbody>\n",
              "    <tr>\n",
              "      <th>bus</th>\n",
              "      <td>3494.850022</td>\n",
              "      <td>0 days 15:04:29.269314709</td>\n",
              "    </tr>\n",
              "    <tr>\n",
              "      <th>carpooling</th>\n",
              "      <td>3218.064310</td>\n",
              "      <td>0 days 04:45:47.272436410</td>\n",
              "    </tr>\n",
              "    <tr>\n",
              "      <th>train</th>\n",
              "      <td>9124.779489</td>\n",
              "      <td>0 days 07:40:39.543514566</td>\n",
              "    </tr>\n",
              "  </tbody>\n",
              "</table>\n",
              "</div>\n",
              "      <button class=\"colab-df-convert\" onclick=\"convertToInteractive('df-b6b0ae00-8038-4c2f-b31c-18d40e7ee7fe')\"\n",
              "              title=\"Convert this dataframe to an interactive table.\"\n",
              "              style=\"display:none;\">\n",
              "        \n",
              "  <svg xmlns=\"http://www.w3.org/2000/svg\" height=\"24px\"viewBox=\"0 0 24 24\"\n",
              "       width=\"24px\">\n",
              "    <path d=\"M0 0h24v24H0V0z\" fill=\"none\"/>\n",
              "    <path d=\"M18.56 5.44l.94 2.06.94-2.06 2.06-.94-2.06-.94-.94-2.06-.94 2.06-2.06.94zm-11 1L8.5 8.5l.94-2.06 2.06-.94-2.06-.94L8.5 2.5l-.94 2.06-2.06.94zm10 10l.94 2.06.94-2.06 2.06-.94-2.06-.94-.94-2.06-.94 2.06-2.06.94z\"/><path d=\"M17.41 7.96l-1.37-1.37c-.4-.4-.92-.59-1.43-.59-.52 0-1.04.2-1.43.59L10.3 9.45l-7.72 7.72c-.78.78-.78 2.05 0 2.83L4 21.41c.39.39.9.59 1.41.59.51 0 1.02-.2 1.41-.59l7.78-7.78 2.81-2.81c.8-.78.8-2.07 0-2.86zM5.41 20L4 18.59l7.72-7.72 1.47 1.35L5.41 20z\"/>\n",
              "  </svg>\n",
              "      </button>\n",
              "      \n",
              "  <style>\n",
              "    .colab-df-container {\n",
              "      display:flex;\n",
              "      flex-wrap:wrap;\n",
              "      gap: 12px;\n",
              "    }\n",
              "\n",
              "    .colab-df-convert {\n",
              "      background-color: #E8F0FE;\n",
              "      border: none;\n",
              "      border-radius: 50%;\n",
              "      cursor: pointer;\n",
              "      display: none;\n",
              "      fill: #1967D2;\n",
              "      height: 32px;\n",
              "      padding: 0 0 0 0;\n",
              "      width: 32px;\n",
              "    }\n",
              "\n",
              "    .colab-df-convert:hover {\n",
              "      background-color: #E2EBFA;\n",
              "      box-shadow: 0px 1px 2px rgba(60, 64, 67, 0.3), 0px 1px 3px 1px rgba(60, 64, 67, 0.15);\n",
              "      fill: #174EA6;\n",
              "    }\n",
              "\n",
              "    [theme=dark] .colab-df-convert {\n",
              "      background-color: #3B4455;\n",
              "      fill: #D2E3FC;\n",
              "    }\n",
              "\n",
              "    [theme=dark] .colab-df-convert:hover {\n",
              "      background-color: #434B5C;\n",
              "      box-shadow: 0px 1px 3px 1px rgba(0, 0, 0, 0.15);\n",
              "      filter: drop-shadow(0px 1px 2px rgba(0, 0, 0, 0.3));\n",
              "      fill: #FFFFFF;\n",
              "    }\n",
              "  </style>\n",
              "\n",
              "      <script>\n",
              "        const buttonEl =\n",
              "          document.querySelector('#df-b6b0ae00-8038-4c2f-b31c-18d40e7ee7fe button.colab-df-convert');\n",
              "        buttonEl.style.display =\n",
              "          google.colab.kernel.accessAllowed ? 'block' : 'none';\n",
              "\n",
              "        async function convertToInteractive(key) {\n",
              "          const element = document.querySelector('#df-b6b0ae00-8038-4c2f-b31c-18d40e7ee7fe');\n",
              "          const dataTable =\n",
              "            await google.colab.kernel.invokeFunction('convertToInteractive',\n",
              "                                                     [key], {});\n",
              "          if (!dataTable) return;\n",
              "\n",
              "          const docLinkHtml = 'Like what you see? Visit the ' +\n",
              "            '<a target=\"_blank\" href=https://colab.research.google.com/notebooks/data_table.ipynb>data table notebook</a>'\n",
              "            + ' to learn more about interactive tables.';\n",
              "          element.innerHTML = '';\n",
              "          dataTable['output_type'] = 'display_data';\n",
              "          await google.colab.output.renderOutput(dataTable, element);\n",
              "          const docLink = document.createElement('div');\n",
              "          docLink.innerHTML = docLinkHtml;\n",
              "          element.appendChild(docLink);\n",
              "        }\n",
              "      </script>\n",
              "    </div>\n",
              "  </div>\n",
              "  "
            ],
            "text/plain": [
              "                price_in_cents                      time\n",
              "transport_type                                          \n",
              "bus                3494.850022 0 days 15:04:29.269314709\n",
              "carpooling         3218.064310 0 days 04:45:47.272436410\n",
              "train              9124.779489 0 days 07:40:39.543514566"
            ]
          },
          "execution_count": 68,
          "metadata": {},
          "output_type": "execute_result"
        }
      ],
      "source": [
        "# 200-800km\n",
        "D800 = ticket_cities_providers.loc[(ticket_cities_providers['distance']>200)& (ticket_cities_providers['distance']<800), :]\n",
        "D800.groupby('transport_type').agg({'price_in_cents':np.mean, 'time':np.mean})"
      ]
    },
    {
      "cell_type": "code",
      "execution_count": 69,
      "metadata": {
        "colab": {
          "base_uri": "https://localhost:8080/",
          "height": 174
        },
        "id": "8fFQWu4zpemM",
        "outputId": "3a49bb18-cb1e-4538-96b4-a8b5a93b2e45"
      },
      "outputs": [
        {
          "data": {
            "text/html": [
              "\n",
              "  <div id=\"df-3627b566-098b-4512-ba95-039832e5ee27\">\n",
              "    <div class=\"colab-df-container\">\n",
              "      <div>\n",
              "<style scoped>\n",
              "    .dataframe tbody tr th:only-of-type {\n",
              "        vertical-align: middle;\n",
              "    }\n",
              "\n",
              "    .dataframe tbody tr th {\n",
              "        vertical-align: top;\n",
              "    }\n",
              "\n",
              "    .dataframe thead th {\n",
              "        text-align: right;\n",
              "    }\n",
              "</style>\n",
              "<table border=\"1\" class=\"dataframe\">\n",
              "  <thead>\n",
              "    <tr style=\"text-align: right;\">\n",
              "      <th></th>\n",
              "      <th>price_in_cents</th>\n",
              "      <th>time</th>\n",
              "    </tr>\n",
              "    <tr>\n",
              "      <th>transport_type</th>\n",
              "      <th></th>\n",
              "      <th></th>\n",
              "    </tr>\n",
              "  </thead>\n",
              "  <tbody>\n",
              "    <tr>\n",
              "      <th>bus</th>\n",
              "      <td>6949.950045</td>\n",
              "      <td>1 days 03:32:10.027247956</td>\n",
              "    </tr>\n",
              "    <tr>\n",
              "      <th>carpooling</th>\n",
              "      <td>8626.545455</td>\n",
              "      <td>0 days 13:06:00.839160839</td>\n",
              "    </tr>\n",
              "    <tr>\n",
              "      <th>train</th>\n",
              "      <td>15463.746130</td>\n",
              "      <td>0 days 12:09:31.021671826</td>\n",
              "    </tr>\n",
              "  </tbody>\n",
              "</table>\n",
              "</div>\n",
              "      <button class=\"colab-df-convert\" onclick=\"convertToInteractive('df-3627b566-098b-4512-ba95-039832e5ee27')\"\n",
              "              title=\"Convert this dataframe to an interactive table.\"\n",
              "              style=\"display:none;\">\n",
              "        \n",
              "  <svg xmlns=\"http://www.w3.org/2000/svg\" height=\"24px\"viewBox=\"0 0 24 24\"\n",
              "       width=\"24px\">\n",
              "    <path d=\"M0 0h24v24H0V0z\" fill=\"none\"/>\n",
              "    <path d=\"M18.56 5.44l.94 2.06.94-2.06 2.06-.94-2.06-.94-.94-2.06-.94 2.06-2.06.94zm-11 1L8.5 8.5l.94-2.06 2.06-.94-2.06-.94L8.5 2.5l-.94 2.06-2.06.94zm10 10l.94 2.06.94-2.06 2.06-.94-2.06-.94-.94-2.06-.94 2.06-2.06.94z\"/><path d=\"M17.41 7.96l-1.37-1.37c-.4-.4-.92-.59-1.43-.59-.52 0-1.04.2-1.43.59L10.3 9.45l-7.72 7.72c-.78.78-.78 2.05 0 2.83L4 21.41c.39.39.9.59 1.41.59.51 0 1.02-.2 1.41-.59l7.78-7.78 2.81-2.81c.8-.78.8-2.07 0-2.86zM5.41 20L4 18.59l7.72-7.72 1.47 1.35L5.41 20z\"/>\n",
              "  </svg>\n",
              "      </button>\n",
              "      \n",
              "  <style>\n",
              "    .colab-df-container {\n",
              "      display:flex;\n",
              "      flex-wrap:wrap;\n",
              "      gap: 12px;\n",
              "    }\n",
              "\n",
              "    .colab-df-convert {\n",
              "      background-color: #E8F0FE;\n",
              "      border: none;\n",
              "      border-radius: 50%;\n",
              "      cursor: pointer;\n",
              "      display: none;\n",
              "      fill: #1967D2;\n",
              "      height: 32px;\n",
              "      padding: 0 0 0 0;\n",
              "      width: 32px;\n",
              "    }\n",
              "\n",
              "    .colab-df-convert:hover {\n",
              "      background-color: #E2EBFA;\n",
              "      box-shadow: 0px 1px 2px rgba(60, 64, 67, 0.3), 0px 1px 3px 1px rgba(60, 64, 67, 0.15);\n",
              "      fill: #174EA6;\n",
              "    }\n",
              "\n",
              "    [theme=dark] .colab-df-convert {\n",
              "      background-color: #3B4455;\n",
              "      fill: #D2E3FC;\n",
              "    }\n",
              "\n",
              "    [theme=dark] .colab-df-convert:hover {\n",
              "      background-color: #434B5C;\n",
              "      box-shadow: 0px 1px 3px 1px rgba(0, 0, 0, 0.15);\n",
              "      filter: drop-shadow(0px 1px 2px rgba(0, 0, 0, 0.3));\n",
              "      fill: #FFFFFF;\n",
              "    }\n",
              "  </style>\n",
              "\n",
              "      <script>\n",
              "        const buttonEl =\n",
              "          document.querySelector('#df-3627b566-098b-4512-ba95-039832e5ee27 button.colab-df-convert');\n",
              "        buttonEl.style.display =\n",
              "          google.colab.kernel.accessAllowed ? 'block' : 'none';\n",
              "\n",
              "        async function convertToInteractive(key) {\n",
              "          const element = document.querySelector('#df-3627b566-098b-4512-ba95-039832e5ee27');\n",
              "          const dataTable =\n",
              "            await google.colab.kernel.invokeFunction('convertToInteractive',\n",
              "                                                     [key], {});\n",
              "          if (!dataTable) return;\n",
              "\n",
              "          const docLinkHtml = 'Like what you see? Visit the ' +\n",
              "            '<a target=\"_blank\" href=https://colab.research.google.com/notebooks/data_table.ipynb>data table notebook</a>'\n",
              "            + ' to learn more about interactive tables.';\n",
              "          element.innerHTML = '';\n",
              "          dataTable['output_type'] = 'display_data';\n",
              "          await google.colab.output.renderOutput(dataTable, element);\n",
              "          const docLink = document.createElement('div');\n",
              "          docLink.innerHTML = docLinkHtml;\n",
              "          element.appendChild(docLink);\n",
              "        }\n",
              "      </script>\n",
              "    </div>\n",
              "  </div>\n",
              "  "
            ],
            "text/plain": [
              "                price_in_cents                      time\n",
              "transport_type                                          \n",
              "bus                6949.950045 1 days 03:32:10.027247956\n",
              "carpooling         8626.545455 0 days 13:06:00.839160839\n",
              "train             15463.746130 0 days 12:09:31.021671826"
            ]
          },
          "execution_count": 69,
          "metadata": {},
          "output_type": "execute_result"
        }
      ],
      "source": [
        "# 800-2000km\n",
        "D2000 = ticket_cities_providers.loc[(ticket_cities_providers['distance']>800)& (ticket_cities_providers['distance']<2000), :]\n",
        "D2000.groupby('transport_type').agg({'price_in_cents':np.mean, 'time':np.mean})"
      ]
    },
    {
      "cell_type": "markdown",
      "metadata": {
        "id": "rIQ7t0tyxOVm"
      },
      "source": [
        "# 3.Plus d'infos intéressants "
      ]
    },
    {
      "cell_type": "markdown",
      "metadata": {
        "id": "wqBmxVZdxX3m"
      },
      "source": [
        "(1) Par la distance des trajets, j'ai calculé la vitesse et le prix par distance. Alors ceci peux donner des voyageurs un petit conseil à choisir le transport. \n",
        "\n",
        "(2) Je montre comment les prix des billets évoluent tout au long de la journée, du matin au soir. Quand on choisi o_city, d_city, date et type de transport pour la function predict, elle peut montrer la fluctuation du prix des billets"
      ]
    },
    {
      "cell_type": "code",
      "execution_count": 70,
      "metadata": {
        "id": "UM9LZoyfqS4k"
      },
      "outputs": [],
      "source": [
        "# Je veux construire un dataframe petit qui contient seulement les colonnes utiles dans cette partie\n",
        "short = ticket_cities_providers.copy()\n",
        "short = short.loc[:,['id_ticket','company','price_in_cents','time','distance','transport_type']]"
      ]
    },
    {
      "cell_type": "code",
      "execution_count": 71,
      "metadata": {
        "id": "c5XpxgNRsbX0"
      },
      "outputs": [],
      "source": [
        "# Transformer la durée à type minute  \n",
        "short.loc[:, 'time'] = short['time'] / np.timedelta64(1,'m')"
      ]
    },
    {
      "cell_type": "code",
      "execution_count": 72,
      "metadata": {
        "id": "2AiyvztWtXJ7"
      },
      "outputs": [],
      "source": [
        "short['velocity'] = short['distance'] /short['time'] * 60\n",
        "short['price_distance'] = short['price_in_cents'] / short['distance']"
      ]
    },
    {
      "cell_type": "code",
      "execution_count": 73,
      "metadata": {
        "colab": {
          "base_uri": "https://localhost:8080/",
          "height": 174
        },
        "id": "xznbBiT1w422",
        "outputId": "03914515-2839-4af0-b3b5-310a142140fe"
      },
      "outputs": [
        {
          "data": {
            "text/html": [
              "\n",
              "  <div id=\"df-09e998ee-c1c0-4aab-811b-b0d067b8c7f9\">\n",
              "    <div class=\"colab-df-container\">\n",
              "      <div>\n",
              "<style scoped>\n",
              "    .dataframe tbody tr th:only-of-type {\n",
              "        vertical-align: middle;\n",
              "    }\n",
              "\n",
              "    .dataframe tbody tr th {\n",
              "        vertical-align: top;\n",
              "    }\n",
              "\n",
              "    .dataframe thead th {\n",
              "        text-align: right;\n",
              "    }\n",
              "</style>\n",
              "<table border=\"1\" class=\"dataframe\">\n",
              "  <thead>\n",
              "    <tr style=\"text-align: right;\">\n",
              "      <th></th>\n",
              "      <th>velocity</th>\n",
              "      <th>price_distance</th>\n",
              "    </tr>\n",
              "    <tr>\n",
              "      <th>transport_type</th>\n",
              "      <th></th>\n",
              "      <th></th>\n",
              "    </tr>\n",
              "  </thead>\n",
              "  <tbody>\n",
              "    <tr>\n",
              "      <th>bus</th>\n",
              "      <td>35.772984</td>\n",
              "      <td>9.203141</td>\n",
              "    </tr>\n",
              "    <tr>\n",
              "      <th>carpooling</th>\n",
              "      <td>75.038035</td>\n",
              "      <td>8.907696</td>\n",
              "    </tr>\n",
              "    <tr>\n",
              "      <th>train</th>\n",
              "      <td>75.572234</td>\n",
              "      <td>22.380288</td>\n",
              "    </tr>\n",
              "  </tbody>\n",
              "</table>\n",
              "</div>\n",
              "      <button class=\"colab-df-convert\" onclick=\"convertToInteractive('df-09e998ee-c1c0-4aab-811b-b0d067b8c7f9')\"\n",
              "              title=\"Convert this dataframe to an interactive table.\"\n",
              "              style=\"display:none;\">\n",
              "        \n",
              "  <svg xmlns=\"http://www.w3.org/2000/svg\" height=\"24px\"viewBox=\"0 0 24 24\"\n",
              "       width=\"24px\">\n",
              "    <path d=\"M0 0h24v24H0V0z\" fill=\"none\"/>\n",
              "    <path d=\"M18.56 5.44l.94 2.06.94-2.06 2.06-.94-2.06-.94-.94-2.06-.94 2.06-2.06.94zm-11 1L8.5 8.5l.94-2.06 2.06-.94-2.06-.94L8.5 2.5l-.94 2.06-2.06.94zm10 10l.94 2.06.94-2.06 2.06-.94-2.06-.94-.94-2.06-.94 2.06-2.06.94z\"/><path d=\"M17.41 7.96l-1.37-1.37c-.4-.4-.92-.59-1.43-.59-.52 0-1.04.2-1.43.59L10.3 9.45l-7.72 7.72c-.78.78-.78 2.05 0 2.83L4 21.41c.39.39.9.59 1.41.59.51 0 1.02-.2 1.41-.59l7.78-7.78 2.81-2.81c.8-.78.8-2.07 0-2.86zM5.41 20L4 18.59l7.72-7.72 1.47 1.35L5.41 20z\"/>\n",
              "  </svg>\n",
              "      </button>\n",
              "      \n",
              "  <style>\n",
              "    .colab-df-container {\n",
              "      display:flex;\n",
              "      flex-wrap:wrap;\n",
              "      gap: 12px;\n",
              "    }\n",
              "\n",
              "    .colab-df-convert {\n",
              "      background-color: #E8F0FE;\n",
              "      border: none;\n",
              "      border-radius: 50%;\n",
              "      cursor: pointer;\n",
              "      display: none;\n",
              "      fill: #1967D2;\n",
              "      height: 32px;\n",
              "      padding: 0 0 0 0;\n",
              "      width: 32px;\n",
              "    }\n",
              "\n",
              "    .colab-df-convert:hover {\n",
              "      background-color: #E2EBFA;\n",
              "      box-shadow: 0px 1px 2px rgba(60, 64, 67, 0.3), 0px 1px 3px 1px rgba(60, 64, 67, 0.15);\n",
              "      fill: #174EA6;\n",
              "    }\n",
              "\n",
              "    [theme=dark] .colab-df-convert {\n",
              "      background-color: #3B4455;\n",
              "      fill: #D2E3FC;\n",
              "    }\n",
              "\n",
              "    [theme=dark] .colab-df-convert:hover {\n",
              "      background-color: #434B5C;\n",
              "      box-shadow: 0px 1px 3px 1px rgba(0, 0, 0, 0.15);\n",
              "      filter: drop-shadow(0px 1px 2px rgba(0, 0, 0, 0.3));\n",
              "      fill: #FFFFFF;\n",
              "    }\n",
              "  </style>\n",
              "\n",
              "      <script>\n",
              "        const buttonEl =\n",
              "          document.querySelector('#df-09e998ee-c1c0-4aab-811b-b0d067b8c7f9 button.colab-df-convert');\n",
              "        buttonEl.style.display =\n",
              "          google.colab.kernel.accessAllowed ? 'block' : 'none';\n",
              "\n",
              "        async function convertToInteractive(key) {\n",
              "          const element = document.querySelector('#df-09e998ee-c1c0-4aab-811b-b0d067b8c7f9');\n",
              "          const dataTable =\n",
              "            await google.colab.kernel.invokeFunction('convertToInteractive',\n",
              "                                                     [key], {});\n",
              "          if (!dataTable) return;\n",
              "\n",
              "          const docLinkHtml = 'Like what you see? Visit the ' +\n",
              "            '<a target=\"_blank\" href=https://colab.research.google.com/notebooks/data_table.ipynb>data table notebook</a>'\n",
              "            + ' to learn more about interactive tables.';\n",
              "          element.innerHTML = '';\n",
              "          dataTable['output_type'] = 'display_data';\n",
              "          await google.colab.output.renderOutput(dataTable, element);\n",
              "          const docLink = document.createElement('div');\n",
              "          docLink.innerHTML = docLinkHtml;\n",
              "          element.appendChild(docLink);\n",
              "        }\n",
              "      </script>\n",
              "    </div>\n",
              "  </div>\n",
              "  "
            ],
            "text/plain": [
              "                 velocity  price_distance\n",
              "transport_type                           \n",
              "bus             35.772984        9.203141\n",
              "carpooling      75.038035        8.907696\n",
              "train           75.572234       22.380288"
            ]
          },
          "execution_count": 73,
          "metadata": {},
          "output_type": "execute_result"
        }
      ],
      "source": [
        "short.groupby('transport_type').agg({'velocity':np.mean, 'price_distance':np.mean})"
      ]
    },
    {
      "cell_type": "markdown",
      "metadata": {
        "id": "E7ByPsCgn6zV"
      },
      "source": [
        "En général, on peut voir que train et carpooling sont plus rapide que bus, mais le train est plus cher que bus et carpooling. "
      ]
    },
    {
      "cell_type": "code",
      "execution_count": 74,
      "metadata": {
        "id": "wEL5Bw3F5eIZ"
      },
      "outputs": [],
      "source": [
        "import matplotlib.pyplot as plt"
      ]
    },
    {
      "cell_type": "code",
      "execution_count": 75,
      "metadata": {
        "colab": {
          "base_uri": "https://localhost:8080/",
          "height": 991
        },
        "id": "IhiKrEfQxUas",
        "outputId": "532b2dd0-f952-43cd-de7d-8eb0f0cf899c"
      },
      "outputs": [
        {
          "data": {
            "text/plain": [
              "Text(0.5, 1.0, 'Le prix par kilometre de differents longeurs')"
            ]
          },
          "execution_count": 75,
          "metadata": {},
          "output_type": "execute_result"
        },
        {
          "data": {
            "image/png": "[encoded data removed]",
            "text/plain": [
              "<Figure size 640x480 with 1 Axes>"
            ]
          },
          "metadata": {},
          "output_type": "display_data"
        },
        {
          "data": {
            "image/png": "[encoded data removed]",
            "text/plain": [
              "<Figure size 640x480 with 1 Axes>"
            ]
          },
          "metadata": {},
          "output_type": "display_data"
        }
      ],
      "source": [
        "s200 = short.loc[short['distance']<200, :]\n",
        "v200 = s200.groupby('transport_type')['velocity'].agg(np.mean).rename('short')\n",
        "p200 = s200.groupby('transport_type')['price_distance'].agg(np.mean).rename('short')\n",
        "\n",
        "s800 = short.loc[(short['distance']>200) & (short['distance']<800), :]\n",
        "v800 = s800.groupby('transport_type')['velocity'].agg(np.mean).rename('medium')\n",
        "p800 = s800.groupby('transport_type')['price_distance'].agg(np.mean).rename('medium')\n",
        "\n",
        "s2000 = short.loc[(short['distance']>800) & (short['distance']<2000), :]\n",
        "v2000 = s2000.groupby('transport_type')['velocity'].agg(np.mean).rename('long')\n",
        "p2000 = s2000.groupby('transport_type')['price_distance'].agg(np.mean).rename('medium')\n",
        "\n",
        "velocity = pd.concat([v200,v800,v2000], axis=1)\n",
        "velocity.T.plot.bar()\n",
        "plt.title('La vitesse moyenne de differents longeurs')\n",
        "price_distance = pd.concat([p200,p800,p2000], axis=1)\n",
        "price_distance.T.plot.bar()\n",
        "plt.title('Le prix par kilometre de differents longeurs')\n",
        "\n",
        "# print(s200.groupby('transport_type').agg({'velocity':np.mean, 'price_distance':np.mean}),'\\n',\n",
        "#    s800.groupby('transport_type').agg({'velocity':np.mean, 'price_distance':np.mean}),'\\n',\n",
        "#    s2000.groupby('transport_type').agg({'velocity':np.mean, 'price_distance':np.mean}))"
      ]
    },
    {
      "cell_type": "markdown",
      "metadata": {
        "id": "mRCEBPZhpDsO"
      },
      "source": [
        "Dans la figure 1, on peut voir que de la courte à la longue distance, la vitesse moyenne des trains et des bus est de plus en plus élevée. Mais la vitesse de carpooling reste presque la même.\n",
        "\n",
        "Dans la figure 2, on peut voir que de la courte à la longue distance, le prix moyen de train et bus diminue mais celui de carpooling reste preque la même. "
      ]
    },
    {
      "cell_type": "code",
      "execution_count": 76,
      "metadata": {
        "id": "2P0zUUiNyboH"
      },
      "outputs": [],
      "source": [
        "import matplotlib.ticker as ticker"
      ]
    },
    {
      "cell_type": "code",
      "execution_count": 77,
      "metadata": {
        "id": "WTHNe_8c_1ND"
      },
      "outputs": [],
      "source": [
        "def prediction(depart,destination,date,transport):\n",
        "  ticket_cities = pd.merge(ticket, cities, left_on='o_city', right_on='id_city', how='inner')\n",
        "  ticket_cities = pd.merge(ticket_cities, cities, left_on='d_city', right_on='id_city', how='inner')\n",
        "  ticket_cities_providers = pd.merge(ticket_cities, providers, left_on='company', right_on='id_provider', how='inner')\n",
        "\n",
        "  city = ticket_cities_providers.copy()\n",
        "  city = city.loc[:,['id_ticket','price_in_cents','departure_ts','search_ts','o_city','d_city','transport_type']]\n",
        "  city = city[city['departure_ts'].str.startswith(date)] # input the date\n",
        "  city = city.loc[(city['o_city']==depart) & (city['d_city']==destination) & (city['transport_type']==transport) ] #input the depart,destination and type of transport\n",
        "  \n",
        "  if city.shape[0] == 0:\n",
        "    print('No such trajet !!!')\n",
        "    return \n",
        "\n",
        "  city['price_average'] = city.departure_ts.map(city.groupby(['departure_ts']).price_in_cents.mean())\n",
        "\n",
        "  city = city.drop_duplicates('price_average',keep='first')\n",
        "  city = city.set_index('departure_ts')\n",
        "  city = city.sort_values(by='departure_ts')\n",
        "\n",
        "  fig = city['price_average'].plot()\n",
        "  fig.xaxis.set_major_locator(ticker.MultipleLocator(base=1))\n",
        "  plt.xticks(rotation = 45) \n",
        "  plt.show()\n"
      ]
    },
    {
      "cell_type": "markdown",
      "metadata": {
        "id": "Y7rsXjqErl9R"
      },
      "source": [
        "Nous pouvons constater que, pour un même voyage, le prix du billet varie en fonction de l'heure à laquelle nous consultons le site. Nous prenons donc la moyenne des prix des billets à différents moments comme prix du billet pour ce jour-là.\n",
        "\n",
        "Si il n y a pas ce trajet, elle imprime \"No such trajet!\""
      ]
    },
    {
      "cell_type": "code",
      "execution_count": 78,
      "metadata": {
        "colab": {
          "base_uri": "https://localhost:8080/",
          "height": 570
        },
        "id": "pZQKksKWrwfb",
        "outputId": "3706ebbb-788f-4b45-e22c-75a0e27a9b56"
      },
      "outputs": [
        {
          "data": {
            "image/png": "[encoded data removed]",
            "text/plain": [
              "<Figure size 640x480 with 1 Axes>"
            ]
          },
          "metadata": {},
          "output_type": "display_data"
        }
      ],
      "source": [
        "prediction(628,453,'2017-10-06','train')"
      ]
    },
    {
      "cell_type": "code",
      "execution_count": 79,
      "metadata": {
        "colab": {
          "base_uri": "https://localhost:8080/",
          "height": 570
        },
        "id": "j1F2b_EVvRGp",
        "outputId": "03f889f4-4f8a-4d15-d37c-61535d52d6b3"
      },
      "outputs": [
        {
          "data": {
            "image/png": "[encoded data removed]",
            "text/plain": [
              "<Figure size 640x480 with 1 Axes>"
            ]
          },
          "metadata": {},
          "output_type": "display_data"
        }
      ],
      "source": [
        "prediction(628,453,'2017-10-06','bus')"
      ]
    },
    {
      "cell_type": "code",
      "execution_count": 80,
      "metadata": {
        "colab": {
          "base_uri": "https://localhost:8080/",
          "height": 570
        },
        "id": "Ii-KnJg2xxck",
        "outputId": "780dc05a-aee7-415a-f9b2-55f8cf21cb3d"
      },
      "outputs": [
        {
          "data": {
            "image/png": "[encoded data removed]",
            "text/plain": [
              "<Figure size 640x480 with 1 Axes>"
            ]
          },
          "metadata": {},
          "output_type": "display_data"
        }
      ],
      "source": [
        "prediction(628,453,'2017-10-06','carpooling')"
      ]
    },
    {
      "cell_type": "code",
      "execution_count": 81,
      "metadata": {
        "colab": {
          "base_uri": "https://localhost:8080/"
        },
        "id": "c4JkS1jEx0By",
        "outputId": "f93b5956-5e40-41f5-8187-df3584295c8e"
      },
      "outputs": [
        {
          "name": "stdout",
          "output_type": "stream",
          "text": [
            "No such trajet !!!\n"
          ]
        }
      ],
      "source": [
        "prediction(628,453,'2017-10-07','carpooling')"
      ]
    }
  ],
  "metadata": {
    "colab": {
      "provenance": []
    },
    "kernelspec": {
      "display_name": "Python 3",
      "name": "python3"
    },
    "language_info": {
      "name": "python"
    }
  },
  "nbformat": 4,
  "nbformat_minor": 0
}
